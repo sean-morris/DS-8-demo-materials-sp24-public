{
 "cells": [
  {
   "cell_type": "markdown",
   "id": "ed1dfe15-798f-4a30-8d19-0c76026af465",
   "metadata": {},
   "source": [
    "# Lecture 1: Basics of Python\n",
    "\n",
    "We will be learning about the basics of python today."
   ]
  },
  {
   "cell_type": "markdown",
   "id": "77545752-95ce-4187-aa3c-e647d4be05f5",
   "metadata": {},
   "source": [
    "## Loops and Such\n"
   ]
  },
  {
   "cell_type": "markdown",
   "id": "9e5979f5-3487-437f-9681-1180bed95ea5",
   "metadata": {},
   "source": [
    "- while loops"
   ]
  },
  {
   "cell_type": "code",
   "execution_count": null,
   "id": "bf9425cd-973a-4eb7-bb5b-44702a0afb19",
   "metadata": {},
   "outputs": [],
   "source": [
    "loop_index = 0\n",
    "while loop_index != 10:\n",
    "    print(f\"iteration number : {loop_index}\")\n",
    "    loop_index += 1"
   ]
  },
  {
   "cell_type": "markdown",
   "id": "909d4070-a78c-4d58-8bde-e286c3ffff53",
   "metadata": {},
   "source": [
    "## Loops with Data\n",
    "1. Add the data file to the folder\n",
    "2. import the correct packages\n",
    "3. Run your code"
   ]
  },
  {
   "cell_type": "code",
   "execution_count": null,
   "id": "4ab32c1a-82f5-4200-a9c9-f8edec1f384f",
   "metadata": {},
   "outputs": [],
   "source": [
    "from datascience import *\n",
    "\n",
    "scrapers = Table.read_table('skyscrapers.csv')\n",
    "scrapers.show(3)"
   ]
  },
  {
   "cell_type": "code",
   "execution_count": null,
   "id": "b8356848-6b4f-4f49-b9a7-5862ab57cfac",
   "metadata": {},
   "outputs": [],
   "source": []
  }
 ],
 "metadata": {
  "kernelspec": {
   "display_name": "Python 3 (ipykernel)",
   "language": "python",
   "name": "python3"
  },
  "language_info": {
   "codemirror_mode": {
    "name": "ipython",
    "version": 3
   },
   "file_extension": ".py",
   "mimetype": "text/x-python",
   "name": "python",
   "nbconvert_exporter": "python",
   "pygments_lexer": "ipython3",
   "version": "3.10.11"
  }
 },
 "nbformat": 4,
 "nbformat_minor": 5
}
